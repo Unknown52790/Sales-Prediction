{
  "nbformat": 4,
  "nbformat_minor": 0,
  "metadata": {
    "colab": {
      "provenance": [],
      "authorship_tag": "ABX9TyOQhIC50Wrz0pfxjkWUghIN",
      "include_colab_link": true
    },
    "kernelspec": {
      "name": "python3",
      "display_name": "Python 3"
    },
    "language_info": {
      "name": "python"
    }
  },
  "cells": [
    {
      "cell_type": "markdown",
      "metadata": {
        "id": "view-in-github",
        "colab_type": "text"
      },
      "source": [
        "<a href=\"https://colab.research.google.com/github/Unknown52790/Sales-Prediction/blob/main/Tiles_Color_Prediction.ipynb\" target=\"_parent\"><img src=\"https://colab.research.google.com/assets/colab-badge.svg\" alt=\"Open In Colab\"/></a>"
      ]
    },
    {
      "cell_type": "markdown",
      "source": [
        "# ***Importing the Libraries***"
      ],
      "metadata": {
        "id": "g1Akgm7GgtKF"
      }
    },
    {
      "cell_type": "code",
      "source": [
        "from PIL import Image\n",
        "import os\n",
        "import numpy as np\n",
        "import cv2\n",
        "import webcolors"
      ],
      "metadata": {
        "id": "xkVgjgxV4lQm"
      },
      "execution_count": 6,
      "outputs": []
    },
    {
      "cell_type": "markdown",
      "source": [
        "# ***Check The Background Color***"
      ],
      "metadata": {
        "id": "dypjKCThl_AH"
      }
    },
    {
      "cell_type": "code",
      "source": [
        "def get_background_color(image_path):\n",
        "    try:\n",
        "        # Open the image\n",
        "        img = Image.open(image_path)\n",
        "\n",
        "        # Convert the image to RGB mode if it's not already in RGB\n",
        "        img = img.convert(\"RGB\")\n",
        "\n",
        "        # Get the most frequent color in the image\n",
        "        background_color = img.getpixel((0, 0))\n",
        "\n",
        "        return background_color\n",
        "    except IOError:\n",
        "        print(f\"Error: Unable to open image '{image_path}'.\")\n",
        "\n"
      ],
      "metadata": {
        "id": "cQzT4iFPfhdw"
      },
      "execution_count": 7,
      "outputs": []
    },
    {
      "cell_type": "markdown",
      "source": [
        "# ***Get the Pattern Color***"
      ],
      "metadata": {
        "id": "QCro_LwWmPQx"
      }
    },
    {
      "cell_type": "code",
      "source": [
        "def get_pattern_color(image_path, roi):\n",
        "    try:\n",
        "        # Open the image\n",
        "        img = Image.open(image_path)\n",
        "\n",
        "        # Convert the image to RGB mode if it's not already in RGB\n",
        "        img = img.convert(\"RGB\")\n",
        "\n",
        "        # Get the average color within the specified region of interest (ROI)\n",
        "        cropped_img = img.crop(roi)\n",
        "        pattern_color = cropped_img.resize((1, 1)).getpixel((0, 0))\n",
        "\n",
        "        return pattern_color\n",
        "    except IOError:\n",
        "        print(f\"Error: Unable to open image '{image_path}'.\")\n",
        "    except Exception as e:\n",
        "        print(f\"Error: {e}\")"
      ],
      "metadata": {
        "id": "jnu4xaCdmOpu"
      },
      "execution_count": 8,
      "outputs": []
    },
    {
      "cell_type": "markdown",
      "source": [
        "# ***Check the Thickness of the Tile Pattern***"
      ],
      "metadata": {
        "id": "_4v7tfgDmjO6"
      }
    },
    {
      "cell_type": "code",
      "source": [
        "def classify_pattern_thickness(image_path, roi, threshold):\n",
        "    try:\n",
        "        # Open the image\n",
        "        img = Image.open(image_path)\n",
        "\n",
        "        # Get the width of the pattern within the specified region of interest (ROI)\n",
        "        pattern_width = roi[2] - roi[0]\n",
        "\n",
        "        # Classify the pattern as thick or thin based on the width\n",
        "        pattern_thickness = \"thick\" if pattern_width >= threshold else \"thin\"\n",
        "\n",
        "        return pattern_thickness\n",
        "    except IOError:\n",
        "        print(f\"Error: Unable to open image '{image_path}'.\")\n",
        "    except Exception as e:\n",
        "        print(f\"Error: {e}\")"
      ],
      "metadata": {
        "id": "9prs14Y8mY39"
      },
      "execution_count": 9,
      "outputs": []
    },
    {
      "cell_type": "markdown",
      "source": [
        "# ***ROI (Region of Interest)***"
      ],
      "metadata": {
        "id": "S76aSRSgmwvT"
      }
    },
    {
      "cell_type": "code",
      "source": [
        "def detect_roi(image_path):\n",
        "    try:\n",
        "        # Read the image using OpenCV\n",
        "        img = cv2.imread(image_path)\n",
        "\n",
        "        # Convert the image to grayscale\n",
        "        gray = cv2.cvtColor(img, cv2.COLOR_BGR2GRAY)\n",
        "\n",
        "        # Apply Gaussian blur to reduce noise\n",
        "        blurred = cv2.GaussianBlur(gray, (5, 5), 0)\n",
        "\n",
        "        # Perform edge detection using Canny\n",
        "        edges = cv2.Canny(blurred, 50, 150)\n",
        "\n",
        "        # Find contours in the edge-detected image\n",
        "        contours, _ = cv2.findContours(edges.copy(), cv2.RETR_EXTERNAL, cv2.CHAIN_APPROX_SIMPLE)\n",
        "\n",
        "        # Get the largest contour (assuming it's the marble pattern)\n",
        "        largest_contour = max(contours, key=cv2.contourArea)\n",
        "\n",
        "        # Get the bounding box of the largest contour\n",
        "        x, y, w, h = cv2.boundingRect(largest_contour)\n",
        "\n",
        "        # Define the ROI based on the bounding box\n",
        "        roi = (x, y, x+w, y+h)\n",
        "\n",
        "        return roi\n",
        "    except Exception as e:\n",
        "        print(f\"Error: {e}\")"
      ],
      "metadata": {
        "id": "PQJ4_viFmr7x"
      },
      "execution_count": 10,
      "outputs": []
    },
    {
      "cell_type": "markdown",
      "source": [
        "# ***Rename that Particular Tile with Color and Thickness***"
      ],
      "metadata": {
        "id": "uaIRzzB5nazq"
      }
    },
    {
      "cell_type": "code",
      "source": [
        "def rename_with_colors_and_thickness(image_path, threshold):\n",
        "    try:\n",
        "        background_color = get_background_color(image_path)\n",
        "        roi = detect_roi(image_path)\n",
        "        pattern_color = get_pattern_color(image_path, roi)\n",
        "        pattern_thickness = classify_pattern_thickness(image_path, roi, threshold)\n",
        "\n",
        "        # Convert RGB colors to string representation\n",
        "        background_color_name = get_color_name(background_color)\n",
        "        pattern_color_name = get_color_name(pattern_color)\n",
        "\n",
        "        # Construct new file name with background color, pattern color, and thickness\n",
        "        new_file_name = f\"{background_color_name}_{pattern_color_name}_{pattern_thickness}\"\n",
        "\n",
        "        # Get the file extension\n",
        "        _, extension = os.path.splitext(image_path)\n",
        "\n",
        "        # Rename the file\n",
        "        os.rename(image_path, new_file_name + extension)\n",
        "\n",
        "        print(f\"File '{image_path}' has been renamed to '{new_file_name}{extension}'.\")\n",
        "    except Exception as e:\n",
        "        print(f\"Error: {e}\")\n",
        "def color_distance(color1,color2):\n",
        "  return sum((c1-c2)**2 for c1,c2 in zip(color1,color2))**0.5"
      ],
      "metadata": {
        "id": "NFi0mqHHm7MT"
      },
      "execution_count": 11,
      "outputs": []
    },
    {
      "cell_type": "markdown",
      "source": [
        "# ***Display Output***"
      ],
      "metadata": {
        "id": "mTEO0zT3nvwG"
      }
    },
    {
      "cell_type": "code",
      "source": [
        "def get_color_name(color):\n",
        "  try:\n",
        "    color_name=webcolors.rgb_to_name(color)\n",
        "  except ValueError:\n",
        "    closest_color=min(webcolors.CSS3_NAMES_TO_HEX,key=lambda x:color_distance(color,webcolors.hex_to_rgb(webcolors.CSS3_NAMES_TO_HEX[x])))\n",
        "    color_name=closest_color.replace('-','').title()\n",
        "  return color_name\n",
        "\n",
        "# Example usage:\n",
        "image_path = \"/content/Brown.jpg\"\n",
        "threshold = 10  # Example threshold value for pattern thickness classification\n",
        "rename_with_colors_and_thickness(image_path, threshold)"
      ],
      "metadata": {
        "colab": {
          "base_uri": "https://localhost:8080/"
        },
        "id": "H-2NFZuonrHV",
        "outputId": "cb064181-2b53-48e4-868e-ec2f98cb85f0"
      },
      "execution_count": 13,
      "outputs": [
        {
          "output_type": "stream",
          "name": "stdout",
          "text": [
            "File '/content/Brown.jpg' has been renamed to 'Linen_Rosybrown_thick.jpg'.\n"
          ]
        }
      ]
    }
  ]
}